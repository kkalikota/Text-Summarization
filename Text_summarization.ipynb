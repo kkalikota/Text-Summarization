{
  "nbformat": 4,
  "nbformat_minor": 0,
  "metadata": {
    "colab": {
      "provenance": []
    },
    "kernelspec": {
      "name": "python3",
      "display_name": "Python 3"
    },
    "language_info": {
      "name": "python"
    }
  },
  "cells": [
    {
      "cell_type": "code",
      "source": [
        "import spacy\n",
        "from spacy.lang.en.stop_words import STOP_WORDS\n",
        "from string import punctuation"
      ],
      "metadata": {
        "id": "CXDPCNDJ1KSx"
      },
      "execution_count": 2,
      "outputs": []
    },
    {
      "cell_type": "code",
      "execution_count": 1,
      "metadata": {
        "id": "_zFHxspJz8v1"
      },
      "outputs": [],
      "source": [
        "text = \"\"\"The NLP and LLM technologies are central to the analysis and generation of human language on a large scale. With their growing prevalence, distinguishing between LLM vs NLP becomes increasingly important.\n",
        "\n",
        "NLP encompasses a suite of algorithms to understand, manipulate, and generate human language. Since its inception in the 1950s, NLP has evolved to analyze textual relationships. It uses part-of-speech tagging, named entity recognition, and sentiment analysis methods.\n",
        "\n",
        "As exemplified by OpenAI’s ChatGPT, LLMs leverage deep learning to train on extensive text sets. Although they can mimic human-like text, their comprehension of language’s nuances is limited. Unlike NLP, which focuses on language analysis, LLMs primarily generate text.\"\"\""
      ]
    },
    {
      "cell_type": "code",
      "source": [
        "len(text)"
      ],
      "metadata": {
        "colab": {
          "base_uri": "https://localhost:8080/"
        },
        "id": "VFsCPjYL1Tbb",
        "outputId": "68285352-b713-4298-ac1e-b5bd14c36986"
      },
      "execution_count": 3,
      "outputs": [
        {
          "output_type": "execute_result",
          "data": {
            "text/plain": [
              "744"
            ]
          },
          "metadata": {},
          "execution_count": 3
        }
      ]
    },
    {
      "cell_type": "code",
      "source": [
        "nlp = spacy.load('en_core_web_sm')"
      ],
      "metadata": {
        "id": "2H3_Ad_S1VLg"
      },
      "execution_count": 4,
      "outputs": []
    },
    {
      "cell_type": "code",
      "source": [
        "doc = nlp(text)"
      ],
      "metadata": {
        "id": "T800i8x91ZIj"
      },
      "execution_count": 5,
      "outputs": []
    },
    {
      "cell_type": "code",
      "source": [
        "tokens = [token.text for token in doc]\n",
        "print(tokens)"
      ],
      "metadata": {
        "colab": {
          "base_uri": "https://localhost:8080/"
        },
        "id": "A5-TCtPq1clu",
        "outputId": "1e402587-31a0-476b-f4ae-90861157e4c6"
      },
      "execution_count": 8,
      "outputs": [
        {
          "output_type": "stream",
          "name": "stdout",
          "text": [
            "['The', 'NLP', 'and', 'LLM', 'technologies', 'are', 'central', 'to', 'the', 'analysis', 'and', 'generation', 'of', 'human', 'language', 'on', 'a', 'large', 'scale', '.', 'With', 'their', 'growing', 'prevalence', ',', 'distinguishing', 'between', 'LLM', 'vs', 'NLP', 'becomes', 'increasingly', 'important', '.', '\\n\\n', 'NLP', 'encompasses', 'a', 'suite', 'of', 'algorithms', 'to', 'understand', ',', 'manipulate', ',', 'and', 'generate', 'human', 'language', '.', 'Since', 'its', 'inception', 'in', 'the', '1950s', ',', 'NLP', 'has', 'evolved', 'to', 'analyze', 'textual', 'relationships', '.', 'It', 'uses', 'part', '-', 'of', '-', 'speech', 'tagging', ',', 'named', 'entity', 'recognition', ',', 'and', 'sentiment', 'analysis', 'methods', '.', '\\n\\n', 'As', 'exemplified', 'by', 'OpenAI', '’s', 'ChatGPT', ',', 'LLMs', 'leverage', 'deep', 'learning', 'to', 'train', 'on', 'extensive', 'text', 'sets', '.', 'Although', 'they', 'can', 'mimic', 'human', '-', 'like', 'text', ',', 'their', 'comprehension', 'of', 'language', '’s', 'nuances', 'is', 'limited', '.', 'Unlike', 'NLP', ',', 'which', 'focuses', 'on', 'language', 'analysis', ',', 'LLMs', 'primarily', 'generate', 'text', '.']\n"
          ]
        }
      ]
    },
    {
      "cell_type": "code",
      "source": [
        "punctuation = punctuation + '\\n' + '\\n\\n'"
      ],
      "metadata": {
        "id": "gwUh8ebA1g8j"
      },
      "execution_count": 22,
      "outputs": []
    },
    {
      "cell_type": "markdown",
      "source": [
        "Text Cleaning"
      ],
      "metadata": {
        "id": "F39itgcN6baH"
      }
    },
    {
      "cell_type": "code",
      "source": [
        "word_freq = {}\n",
        "stop_words = list(STOP_WORDS)\n",
        "for word in doc:\n",
        "    if word.text.lower() not in stop_words:\n",
        "        if word.text.lower() not in punctuation:\n",
        "            if word.text not in word_freq.keys():\n",
        "                word_freq[word.text] = 1\n",
        "            else:\n",
        "                word_freq[word.text] += 1"
      ],
      "metadata": {
        "id": "wNqlfvTv1mY4"
      },
      "execution_count": 23,
      "outputs": []
    },
    {
      "cell_type": "code",
      "source": [
        "word_freq"
      ],
      "metadata": {
        "colab": {
          "base_uri": "https://localhost:8080/"
        },
        "id": "u5j-xDpU10QW",
        "outputId": "3350562b-5ef1-48c9-d78f-e4fcd4dba05f"
      },
      "execution_count": 24,
      "outputs": [
        {
          "output_type": "execute_result",
          "data": {
            "text/plain": [
              "{'NLP': 5,\n",
              " 'LLM': 2,\n",
              " 'technologies': 1,\n",
              " 'central': 1,\n",
              " 'analysis': 3,\n",
              " 'generation': 1,\n",
              " 'human': 3,\n",
              " 'language': 4,\n",
              " 'large': 1,\n",
              " 'scale': 1,\n",
              " 'growing': 1,\n",
              " 'prevalence': 1,\n",
              " 'distinguishing': 1,\n",
              " 'vs': 1,\n",
              " 'increasingly': 1,\n",
              " 'important': 1,\n",
              " 'encompasses': 1,\n",
              " 'suite': 1,\n",
              " 'algorithms': 1,\n",
              " 'understand': 1,\n",
              " 'manipulate': 1,\n",
              " 'generate': 2,\n",
              " 'inception': 1,\n",
              " '1950s': 1,\n",
              " 'evolved': 1,\n",
              " 'analyze': 1,\n",
              " 'textual': 1,\n",
              " 'relationships': 1,\n",
              " 'uses': 1,\n",
              " 'speech': 1,\n",
              " 'tagging': 1,\n",
              " 'named': 1,\n",
              " 'entity': 1,\n",
              " 'recognition': 1,\n",
              " 'sentiment': 1,\n",
              " 'methods': 1,\n",
              " 'exemplified': 1,\n",
              " 'OpenAI': 1,\n",
              " 'ChatGPT': 1,\n",
              " 'LLMs': 2,\n",
              " 'leverage': 1,\n",
              " 'deep': 1,\n",
              " 'learning': 1,\n",
              " 'train': 1,\n",
              " 'extensive': 1,\n",
              " 'text': 3,\n",
              " 'sets': 1,\n",
              " 'mimic': 1,\n",
              " 'like': 1,\n",
              " 'comprehension': 1,\n",
              " 'nuances': 1,\n",
              " 'limited': 1,\n",
              " 'Unlike': 1,\n",
              " 'focuses': 1,\n",
              " 'primarily': 1}"
            ]
          },
          "metadata": {},
          "execution_count": 24
        }
      ]
    },
    {
      "cell_type": "code",
      "source": [
        "max_freq = max(word_freq.values())"
      ],
      "metadata": {
        "id": "oQ3chKC_7-2O"
      },
      "execution_count": 26,
      "outputs": []
    },
    {
      "cell_type": "code",
      "source": [
        "for word in word_freq.keys():\n",
        "    word_freq[word] = word_freq[word]/max_freq"
      ],
      "metadata": {
        "id": "ongL9G-N8LGV"
      },
      "execution_count": 27,
      "outputs": []
    },
    {
      "cell_type": "code",
      "source": [
        "word_freq"
      ],
      "metadata": {
        "colab": {
          "base_uri": "https://localhost:8080/"
        },
        "id": "VgMGTvpH8Ru5",
        "outputId": "3995852e-45b8-413e-8e6a-f0e569e2ad72"
      },
      "execution_count": 28,
      "outputs": [
        {
          "output_type": "execute_result",
          "data": {
            "text/plain": [
              "{'NLP': 1.0,\n",
              " 'LLM': 0.4,\n",
              " 'technologies': 0.2,\n",
              " 'central': 0.2,\n",
              " 'analysis': 0.6,\n",
              " 'generation': 0.2,\n",
              " 'human': 0.6,\n",
              " 'language': 0.8,\n",
              " 'large': 0.2,\n",
              " 'scale': 0.2,\n",
              " 'growing': 0.2,\n",
              " 'prevalence': 0.2,\n",
              " 'distinguishing': 0.2,\n",
              " 'vs': 0.2,\n",
              " 'increasingly': 0.2,\n",
              " 'important': 0.2,\n",
              " 'encompasses': 0.2,\n",
              " 'suite': 0.2,\n",
              " 'algorithms': 0.2,\n",
              " 'understand': 0.2,\n",
              " 'manipulate': 0.2,\n",
              " 'generate': 0.4,\n",
              " 'inception': 0.2,\n",
              " '1950s': 0.2,\n",
              " 'evolved': 0.2,\n",
              " 'analyze': 0.2,\n",
              " 'textual': 0.2,\n",
              " 'relationships': 0.2,\n",
              " 'uses': 0.2,\n",
              " 'speech': 0.2,\n",
              " 'tagging': 0.2,\n",
              " 'named': 0.2,\n",
              " 'entity': 0.2,\n",
              " 'recognition': 0.2,\n",
              " 'sentiment': 0.2,\n",
              " 'methods': 0.2,\n",
              " 'exemplified': 0.2,\n",
              " 'OpenAI': 0.2,\n",
              " 'ChatGPT': 0.2,\n",
              " 'LLMs': 0.4,\n",
              " 'leverage': 0.2,\n",
              " 'deep': 0.2,\n",
              " 'learning': 0.2,\n",
              " 'train': 0.2,\n",
              " 'extensive': 0.2,\n",
              " 'text': 0.6,\n",
              " 'sets': 0.2,\n",
              " 'mimic': 0.2,\n",
              " 'like': 0.2,\n",
              " 'comprehension': 0.2,\n",
              " 'nuances': 0.2,\n",
              " 'limited': 0.2,\n",
              " 'Unlike': 0.2,\n",
              " 'focuses': 0.2,\n",
              " 'primarily': 0.2}"
            ]
          },
          "metadata": {},
          "execution_count": 28
        }
      ]
    },
    {
      "cell_type": "markdown",
      "source": [
        "Sentence tokenization"
      ],
      "metadata": {
        "id": "ZAHGkiaz8fUj"
      }
    },
    {
      "cell_type": "code",
      "source": [
        "sent_tokens = [sent for sent in doc.sents]\n",
        "print(sent_tokens)"
      ],
      "metadata": {
        "colab": {
          "base_uri": "https://localhost:8080/"
        },
        "id": "IU-uXGId8YkM",
        "outputId": "115d81cc-c4fd-4e39-d979-9de477235c37"
      },
      "execution_count": 37,
      "outputs": [
        {
          "output_type": "stream",
          "name": "stdout",
          "text": [
            "[The NLP and LLM technologies are central to the analysis and generation of human language on a large scale., With their growing prevalence, distinguishing between LLM vs NLP becomes increasingly important.\n",
            "\n",
            ", NLP encompasses a suite of algorithms to understand, manipulate, and generate human language., Since its inception in the 1950s, NLP has evolved to analyze textual relationships., It uses part-of-speech tagging, named entity recognition, and sentiment analysis methods.\n",
            "\n",
            ", As exemplified by OpenAI’s ChatGPT, LLMs leverage deep learning to train on extensive text sets., Although they can mimic human-like text, their comprehension of language’s nuances is limited., Unlike NLP, which focuses on language analysis, LLMs primarily generate text.]\n"
          ]
        }
      ]
    },
    {
      "cell_type": "code",
      "source": [
        "sent_score = {}"
      ],
      "metadata": {
        "id": "xBwAF8nk83hP"
      },
      "execution_count": 38,
      "outputs": []
    },
    {
      "cell_type": "code",
      "source": [
        "for sent in sent_tokens:\n",
        "  for word in sent:\n",
        "    if word.text.lower() in word_freq.keys():\n",
        "      if sent not in sent_score.keys():\n",
        "        sent_score[sent] = word_freq[word.text.lower()]\n",
        "      else:\n",
        "        sent_score[sent] += word_freq[word.text.lower()]"
      ],
      "metadata": {
        "id": "CP6NIlMR9AzE"
      },
      "execution_count": 44,
      "outputs": []
    },
    {
      "cell_type": "code",
      "source": [
        "print(sent_score)"
      ],
      "metadata": {
        "colab": {
          "base_uri": "https://localhost:8080/"
        },
        "id": "YSYD5Tt295p5",
        "outputId": "c4697016-da60-4a2d-e5e4-76d1d7571a36"
      },
      "execution_count": 45,
      "outputs": [
        {
          "output_type": "stream",
          "name": "stdout",
          "text": [
            "{The NLP and LLM technologies are central to the analysis and generation of human language on a large scale.: 3.0, With their growing prevalence, distinguishing between LLM vs NLP becomes increasingly important.\n",
            "\n",
            ": 1.2, NLP encompasses a suite of algorithms to understand, manipulate, and generate human language.: 2.8, Since its inception in the 1950s, NLP has evolved to analyze textual relationships.: 1.2, It uses part-of-speech tagging, named entity recognition, and sentiment analysis methods.\n",
            "\n",
            ": 2.2, As exemplified by OpenAI’s ChatGPT, LLMs leverage deep learning to train on extensive text sets.: 1.9999999999999998, Although they can mimic human-like text, their comprehension of language’s nuances is limited.: 3.0000000000000004, Unlike NLP, which focuses on language analysis, LLMs primarily generate text.: 2.8000000000000003}\n"
          ]
        }
      ]
    },
    {
      "cell_type": "markdown",
      "source": [
        "Select 30% sentences with max score"
      ],
      "metadata": {
        "id": "3GZV938K_Pn7"
      }
    },
    {
      "cell_type": "code",
      "source": [
        "from heapq import nlargest\n"
      ],
      "metadata": {
        "id": "5W28T34E97Or"
      },
      "execution_count": 48,
      "outputs": []
    },
    {
      "cell_type": "code",
      "source": [
        "len(sent_score) * 0.3"
      ],
      "metadata": {
        "colab": {
          "base_uri": "https://localhost:8080/"
        },
        "id": "F7V3jjOn_Cf_",
        "outputId": "781de8da-cae9-48db-9843-4ed9c157cc51"
      },
      "execution_count": 49,
      "outputs": [
        {
          "output_type": "execute_result",
          "data": {
            "text/plain": [
              "2.4"
            ]
          },
          "metadata": {},
          "execution_count": 49
        }
      ]
    },
    {
      "cell_type": "code",
      "source": [
        "summary = nlargest(n = 3, iterable = sent_score, key = sent_score.get)"
      ],
      "metadata": {
        "id": "fc3l6dba_dh0"
      },
      "execution_count": 50,
      "outputs": []
    },
    {
      "cell_type": "code",
      "source": [
        "print(summary)"
      ],
      "metadata": {
        "colab": {
          "base_uri": "https://localhost:8080/"
        },
        "id": "3Ymi_ZFD_tl8",
        "outputId": "bed8e9a1-fb00-4872-cca8-97a7c71b6aa7"
      },
      "execution_count": 51,
      "outputs": [
        {
          "output_type": "stream",
          "name": "stdout",
          "text": [
            "[Although they can mimic human-like text, their comprehension of language’s nuances is limited., The NLP and LLM technologies are central to the analysis and generation of human language on a large scale., Unlike NLP, which focuses on language analysis, LLMs primarily generate text.]\n"
          ]
        }
      ]
    },
    {
      "cell_type": "code",
      "source": [
        "final_summary = [word.text for word in summary]"
      ],
      "metadata": {
        "id": "jOOk41dd_7vf"
      },
      "execution_count": 52,
      "outputs": []
    },
    {
      "cell_type": "code",
      "source": [
        "final_summary = \" \".join(final_summary)\n",
        "print(final_summary)"
      ],
      "metadata": {
        "colab": {
          "base_uri": "https://localhost:8080/"
        },
        "id": "7Fk2lqf8AHTX",
        "outputId": "948372d1-02f7-4bd8-81ab-331fb9a65caa"
      },
      "execution_count": 53,
      "outputs": [
        {
          "output_type": "stream",
          "name": "stdout",
          "text": [
            "Although they can mimic human-like text, their comprehension of language’s nuances is limited. The NLP and LLM technologies are central to the analysis and generation of human language on a large scale. Unlike NLP, which focuses on language analysis, LLMs primarily generate text.\n"
          ]
        }
      ]
    },
    {
      "cell_type": "code",
      "source": [
        "len(final_summary)"
      ],
      "metadata": {
        "colab": {
          "base_uri": "https://localhost:8080/"
        },
        "id": "t76I4-40AO5g",
        "outputId": "edf88e4d-2cfd-4c59-ffb1-0c4068af531f"
      },
      "execution_count": 54,
      "outputs": [
        {
          "output_type": "execute_result",
          "data": {
            "text/plain": [
              "280"
            ]
          },
          "metadata": {},
          "execution_count": 54
        }
      ]
    },
    {
      "cell_type": "code",
      "source": [],
      "metadata": {
        "id": "p0ATrbi8ART7"
      },
      "execution_count": null,
      "outputs": []
    }
  ]
}